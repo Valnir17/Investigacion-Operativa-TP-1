{
 "cells": [
  {
   "cell_type": "code",
   "execution_count": 1,
   "id": "9838433b",
   "metadata": {},
   "outputs": [],
   "source": [
    "import pandas as pd\n",
    "import numpy as np\n",
    "from pulp import LpProblem, LpVariable, LpMinimize, lpSum, LpStatus, value"
   ]
  },
  {
   "cell_type": "code",
   "execution_count": 2,
   "id": "2fbaa2c9",
   "metadata": {},
   "outputs": [],
   "source": [
    "depositos = pd.read_csv('Archivos Intermedios/filtered_depositos.csv')\n",
    "mayoristas = pd.read_csv('Archivos Intermedios/filtered_mayoristas.csv')\n",
    "productos = pd.read_csv('Archivos Intermedios/filtered_productos.csv')"
   ]
  },
  {
   "cell_type": "code",
   "execution_count": 5,
   "id": "ffab956d",
   "metadata": {},
   "outputs": [
    {
     "data": {
      "text/html": [
       "<div>\n",
       "<style scoped>\n",
       "    .dataframe tbody tr th:only-of-type {\n",
       "        vertical-align: middle;\n",
       "    }\n",
       "\n",
       "    .dataframe tbody tr th {\n",
       "        vertical-align: top;\n",
       "    }\n",
       "\n",
       "    .dataframe thead th {\n",
       "        text-align: right;\n",
       "    }\n",
       "</style>\n",
       "<table border=\"1\" class=\"dataframe\">\n",
       "  <thead>\n",
       "    <tr style=\"text-align: right;\">\n",
       "      <th></th>\n",
       "      <th>deposito</th>\n",
       "      <th>capacidad_m3</th>\n",
       "      <th>pdv_1</th>\n",
       "      <th>pdv_2</th>\n",
       "      <th>pdv_3</th>\n",
       "      <th>pdv_4</th>\n",
       "      <th>pdv_5</th>\n",
       "    </tr>\n",
       "  </thead>\n",
       "  <tbody>\n",
       "    <tr>\n",
       "      <th>0</th>\n",
       "      <td>D1_DEP</td>\n",
       "      <td>1500</td>\n",
       "      <td>11.32</td>\n",
       "      <td>11.78</td>\n",
       "      <td>17.97</td>\n",
       "      <td>17.78</td>\n",
       "      <td>15.13</td>\n",
       "    </tr>\n",
       "    <tr>\n",
       "      <th>1</th>\n",
       "      <td>D2_DEP</td>\n",
       "      <td>1300</td>\n",
       "      <td>18.22</td>\n",
       "      <td>16.45</td>\n",
       "      <td>16.79</td>\n",
       "      <td>9.80</td>\n",
       "      <td>10.03</td>\n",
       "    </tr>\n",
       "  </tbody>\n",
       "</table>\n",
       "</div>"
      ],
      "text/plain": [
       "  deposito  capacidad_m3  pdv_1  pdv_2  pdv_3  pdv_4  pdv_5\n",
       "0   D1_DEP          1500  11.32  11.78  17.97  17.78  15.13\n",
       "1   D2_DEP          1300  18.22  16.45  16.79   9.80  10.03"
      ]
     },
     "execution_count": 5,
     "metadata": {},
     "output_type": "execute_result"
    }
   ],
   "source": [
    "depositos"
   ]
  },
  {
   "cell_type": "code",
   "execution_count": 6,
   "id": "2e6b2435",
   "metadata": {},
   "outputs": [
    {
     "data": {
      "text/html": [
       "<div>\n",
       "<style scoped>\n",
       "    .dataframe tbody tr th:only-of-type {\n",
       "        vertical-align: middle;\n",
       "    }\n",
       "\n",
       "    .dataframe tbody tr th {\n",
       "        vertical-align: top;\n",
       "    }\n",
       "\n",
       "    .dataframe thead th {\n",
       "        text-align: right;\n",
       "    }\n",
       "</style>\n",
       "<table border=\"1\" class=\"dataframe\">\n",
       "  <thead>\n",
       "    <tr style=\"text-align: right;\">\n",
       "      <th></th>\n",
       "      <th>mayorista</th>\n",
       "      <th>D1_DEP</th>\n",
       "      <th>D2_DEP</th>\n",
       "      <th>pdv_1</th>\n",
       "      <th>pdv_2</th>\n",
       "      <th>pdv_3</th>\n",
       "      <th>pdv_4</th>\n",
       "      <th>pdv_5</th>\n",
       "    </tr>\n",
       "  </thead>\n",
       "  <tbody>\n",
       "    <tr>\n",
       "      <th>0</th>\n",
       "      <td>M1</td>\n",
       "      <td>14.88</td>\n",
       "      <td>24.75</td>\n",
       "      <td>29.79</td>\n",
       "      <td>33.88</td>\n",
       "      <td>26.08</td>\n",
       "      <td>27.21</td>\n",
       "      <td>26.10</td>\n",
       "    </tr>\n",
       "    <tr>\n",
       "      <th>1</th>\n",
       "      <td>M2</td>\n",
       "      <td>20.04</td>\n",
       "      <td>17.15</td>\n",
       "      <td>32.92</td>\n",
       "      <td>32.76</td>\n",
       "      <td>33.67</td>\n",
       "      <td>36.24</td>\n",
       "      <td>39.47</td>\n",
       "    </tr>\n",
       "    <tr>\n",
       "      <th>2</th>\n",
       "      <td>M3</td>\n",
       "      <td>19.22</td>\n",
       "      <td>17.24</td>\n",
       "      <td>30.16</td>\n",
       "      <td>29.16</td>\n",
       "      <td>39.95</td>\n",
       "      <td>36.26</td>\n",
       "      <td>34.67</td>\n",
       "    </tr>\n",
       "  </tbody>\n",
       "</table>\n",
       "</div>"
      ],
      "text/plain": [
       "  mayorista  D1_DEP  D2_DEP  pdv_1  pdv_2  pdv_3  pdv_4  pdv_5\n",
       "0        M1   14.88   24.75  29.79  33.88  26.08  27.21  26.10\n",
       "1        M2   20.04   17.15  32.92  32.76  33.67  36.24  39.47\n",
       "2        M3   19.22   17.24  30.16  29.16  39.95  36.26  34.67"
      ]
     },
     "execution_count": 6,
     "metadata": {},
     "output_type": "execute_result"
    }
   ],
   "source": [
    "mayoristas"
   ]
  },
  {
   "cell_type": "code",
   "execution_count": 7,
   "id": "a399fd65",
   "metadata": {},
   "outputs": [
    {
     "data": {
      "text/html": [
       "<div>\n",
       "<style scoped>\n",
       "    .dataframe tbody tr th:only-of-type {\n",
       "        vertical-align: middle;\n",
       "    }\n",
       "\n",
       "    .dataframe tbody tr th {\n",
       "        vertical-align: top;\n",
       "    }\n",
       "\n",
       "    .dataframe thead th {\n",
       "        text-align: right;\n",
       "    }\n",
       "</style>\n",
       "<table border=\"1\" class=\"dataframe\">\n",
       "  <thead>\n",
       "    <tr style=\"text-align: right;\">\n",
       "      <th></th>\n",
       "      <th>producto_id</th>\n",
       "      <th>volumen_m3</th>\n",
       "      <th>costo_M1_usd</th>\n",
       "      <th>costo_M2_usd</th>\n",
       "      <th>costo_M3_usd</th>\n",
       "      <th>pdv_1</th>\n",
       "      <th>pdv_2</th>\n",
       "      <th>pdv_3</th>\n",
       "      <th>pdv_4</th>\n",
       "      <th>pdv_5</th>\n",
       "      <th>demanda_total</th>\n",
       "      <th>volumen_total</th>\n",
       "    </tr>\n",
       "  </thead>\n",
       "  <tbody>\n",
       "    <tr>\n",
       "      <th>0</th>\n",
       "      <td>DEP1</td>\n",
       "      <td>0.232</td>\n",
       "      <td>105.24</td>\n",
       "      <td>95.67</td>\n",
       "      <td>81.32</td>\n",
       "      <td>0</td>\n",
       "      <td>0</td>\n",
       "      <td>0</td>\n",
       "      <td>69</td>\n",
       "      <td>25</td>\n",
       "      <td>94</td>\n",
       "      <td>21.808</td>\n",
       "    </tr>\n",
       "    <tr>\n",
       "      <th>1</th>\n",
       "      <td>DEP2</td>\n",
       "      <td>0.180</td>\n",
       "      <td>103.43</td>\n",
       "      <td>94.03</td>\n",
       "      <td>79.93</td>\n",
       "      <td>5</td>\n",
       "      <td>92</td>\n",
       "      <td>7</td>\n",
       "      <td>99</td>\n",
       "      <td>27</td>\n",
       "      <td>230</td>\n",
       "      <td>41.400</td>\n",
       "    </tr>\n",
       "    <tr>\n",
       "      <th>2</th>\n",
       "      <td>DEP3</td>\n",
       "      <td>0.186</td>\n",
       "      <td>129.94</td>\n",
       "      <td>118.13</td>\n",
       "      <td>100.41</td>\n",
       "      <td>98</td>\n",
       "      <td>0</td>\n",
       "      <td>0</td>\n",
       "      <td>61</td>\n",
       "      <td>0</td>\n",
       "      <td>159</td>\n",
       "      <td>29.574</td>\n",
       "    </tr>\n",
       "    <tr>\n",
       "      <th>3</th>\n",
       "      <td>DEP4</td>\n",
       "      <td>0.156</td>\n",
       "      <td>108.92</td>\n",
       "      <td>99.02</td>\n",
       "      <td>84.17</td>\n",
       "      <td>44</td>\n",
       "      <td>19</td>\n",
       "      <td>0</td>\n",
       "      <td>70</td>\n",
       "      <td>0</td>\n",
       "      <td>133</td>\n",
       "      <td>20.748</td>\n",
       "    </tr>\n",
       "    <tr>\n",
       "      <th>4</th>\n",
       "      <td>DEP5</td>\n",
       "      <td>0.211</td>\n",
       "      <td>114.36</td>\n",
       "      <td>103.96</td>\n",
       "      <td>88.37</td>\n",
       "      <td>19</td>\n",
       "      <td>34</td>\n",
       "      <td>26</td>\n",
       "      <td>13</td>\n",
       "      <td>84</td>\n",
       "      <td>176</td>\n",
       "      <td>37.136</td>\n",
       "    </tr>\n",
       "    <tr>\n",
       "      <th>...</th>\n",
       "      <td>...</td>\n",
       "      <td>...</td>\n",
       "      <td>...</td>\n",
       "      <td>...</td>\n",
       "      <td>...</td>\n",
       "      <td>...</td>\n",
       "      <td>...</td>\n",
       "      <td>...</td>\n",
       "      <td>...</td>\n",
       "      <td>...</td>\n",
       "      <td>...</td>\n",
       "      <td>...</td>\n",
       "    </tr>\n",
       "    <tr>\n",
       "      <th>95</th>\n",
       "      <td>DEP96</td>\n",
       "      <td>0.200</td>\n",
       "      <td>101.31</td>\n",
       "      <td>92.10</td>\n",
       "      <td>78.28</td>\n",
       "      <td>55</td>\n",
       "      <td>30</td>\n",
       "      <td>67</td>\n",
       "      <td>27</td>\n",
       "      <td>0</td>\n",
       "      <td>179</td>\n",
       "      <td>35.800</td>\n",
       "    </tr>\n",
       "    <tr>\n",
       "      <th>96</th>\n",
       "      <td>DEP97</td>\n",
       "      <td>0.219</td>\n",
       "      <td>98.49</td>\n",
       "      <td>89.54</td>\n",
       "      <td>76.11</td>\n",
       "      <td>82</td>\n",
       "      <td>45</td>\n",
       "      <td>0</td>\n",
       "      <td>95</td>\n",
       "      <td>32</td>\n",
       "      <td>254</td>\n",
       "      <td>55.626</td>\n",
       "    </tr>\n",
       "    <tr>\n",
       "      <th>97</th>\n",
       "      <td>DEP98</td>\n",
       "      <td>0.174</td>\n",
       "      <td>112.12</td>\n",
       "      <td>101.93</td>\n",
       "      <td>86.64</td>\n",
       "      <td>0</td>\n",
       "      <td>72</td>\n",
       "      <td>74</td>\n",
       "      <td>97</td>\n",
       "      <td>29</td>\n",
       "      <td>272</td>\n",
       "      <td>47.328</td>\n",
       "    </tr>\n",
       "    <tr>\n",
       "      <th>98</th>\n",
       "      <td>DEP99</td>\n",
       "      <td>0.189</td>\n",
       "      <td>127.64</td>\n",
       "      <td>116.04</td>\n",
       "      <td>98.63</td>\n",
       "      <td>0</td>\n",
       "      <td>36</td>\n",
       "      <td>36</td>\n",
       "      <td>0</td>\n",
       "      <td>17</td>\n",
       "      <td>89</td>\n",
       "      <td>16.821</td>\n",
       "    </tr>\n",
       "    <tr>\n",
       "      <th>99</th>\n",
       "      <td>DEP100</td>\n",
       "      <td>0.185</td>\n",
       "      <td>116.44</td>\n",
       "      <td>105.85</td>\n",
       "      <td>89.97</td>\n",
       "      <td>0</td>\n",
       "      <td>60</td>\n",
       "      <td>0</td>\n",
       "      <td>47</td>\n",
       "      <td>9</td>\n",
       "      <td>116</td>\n",
       "      <td>21.460</td>\n",
       "    </tr>\n",
       "  </tbody>\n",
       "</table>\n",
       "<p>100 rows × 12 columns</p>\n",
       "</div>"
      ],
      "text/plain": [
       "   producto_id  volumen_m3  costo_M1_usd  costo_M2_usd  costo_M3_usd  pdv_1  \\\n",
       "0         DEP1       0.232        105.24         95.67         81.32      0   \n",
       "1         DEP2       0.180        103.43         94.03         79.93      5   \n",
       "2         DEP3       0.186        129.94        118.13        100.41     98   \n",
       "3         DEP4       0.156        108.92         99.02         84.17     44   \n",
       "4         DEP5       0.211        114.36        103.96         88.37     19   \n",
       "..         ...         ...           ...           ...           ...    ...   \n",
       "95       DEP96       0.200        101.31         92.10         78.28     55   \n",
       "96       DEP97       0.219         98.49         89.54         76.11     82   \n",
       "97       DEP98       0.174        112.12        101.93         86.64      0   \n",
       "98       DEP99       0.189        127.64        116.04         98.63      0   \n",
       "99      DEP100       0.185        116.44        105.85         89.97      0   \n",
       "\n",
       "    pdv_2  pdv_3  pdv_4  pdv_5  demanda_total  volumen_total  \n",
       "0       0      0     69     25             94         21.808  \n",
       "1      92      7     99     27            230         41.400  \n",
       "2       0      0     61      0            159         29.574  \n",
       "3      19      0     70      0            133         20.748  \n",
       "4      34     26     13     84            176         37.136  \n",
       "..    ...    ...    ...    ...            ...            ...  \n",
       "95     30     67     27      0            179         35.800  \n",
       "96     45      0     95     32            254         55.626  \n",
       "97     72     74     97     29            272         47.328  \n",
       "98     36     36      0     17             89         16.821  \n",
       "99     60      0     47      9            116         21.460  \n",
       "\n",
       "[100 rows x 12 columns]"
      ]
     },
     "execution_count": 7,
     "metadata": {},
     "output_type": "execute_result"
    }
   ],
   "source": [
    "productos"
   ]
  },
  {
   "cell_type": "markdown",
   "id": "29fd5606",
   "metadata": {},
   "source": [
    "# Texto adicional en inglés para obtener mejores resultados con las IAs cuando tenga dudas\n",
    "\n",
    "\n",
    "I have 3 dataframes: mayoristas, productos and depositos\n",
    "\n",
    "## Mayoristas\n",
    "Has the following columns:\n",
    "- mayorista: Represents to which buying center all other attributes correspond. Has only 3 values (or lines); \"M1\", \"M2\" and \"M3\"\n",
    "- D1_DEP: Transportation cost per cubic meter from the corresponding M to D1\n",
    "- D2_DEP: Transportation cost per cubic meter from the corresponding M to D2\n",
    "- pdv_1: Transportation cost per cubic meter from the corresponding M to the selling point 1 (directly, instead of going through deposits)\n",
    "- pdv_2: Transportation cost per cubic meter from the corresponding M to the selling point 2 (directly, instead of going through deposits)\n",
    "- pdv_3: Transportation cost per cubic meter from the corresponding M to the selling point 3 (directly, instead of going through deposits)\n",
    "- pdv_4: Transportation cost per cubic meter from the corresponding M to the selling point 4 (directly, instead of going through deposits)\n",
    "- pdv_5: Transportation cost per cubic meter from the corresponding M to the selling point 5 (directly, instead of going through deposits)\n",
    "\n",
    "## Depositos\n",
    "Has the following columns:\n",
    "- deposito: Represents to which deposit all other attributes correspond. Has only 2 values (or lines); \"D1_DEP\", \"D2_DEP\" and \"D3_DEP\"\n",
    "- capacidad_m3: The volume of goods each deposit can hold in cubic meters\n",
    "- pdv_1 to pdv_5: Cost of transportation per cubic meter from the corresponding deposit to the selected selling point (pdv) shown in USD/(10m^{3})\n",
    "\n",
    "\n",
    "## Productos\n",
    "- producto_id: The identifier for each product\n",
    "- volumen_m3: the volume cubic meters of a unit the corresponding good\n",
    "- costo_M1_usd: Cost per unit of the corresponding good in USD to the M1 (closer, but more expensive)\n",
    "- costo_M2_usd: Cost per unit of the corresponding good in USD to the M2 (intermediate)\n",
    "- costo_M3_usd: Cost per unit of the corresponding good in USD to the M3 (furthest away, but cheapest)\n",
    "- pdv_1 to 5: Ammount of each product demanded by each selling point (shown in units of the good)\n",
    "- demanda_total: Sum of the corresponding pdv_1 to 5\n",
    "- volumen_total: volumen_m3*demanda_total\n",
    "\n",
    "\n",
    "\n",
    "# What's being asked?\n",
    "Create 3 csv files representing the buy orders to the 3 buying points (M1, M2 and M3)\n",
    "The files should have the following columns:\n",
    "- producto_id: The identifier for each product\n",
    "- cantidad_total: The quantity that must be bought from the buying point that corresponded to the file. \n",
    "- D1_DEP: Quantity of the corresponding good that must be sent to the first deposit\n",
    "- D1_DEP: Quantity of the corresponding good that must be sent to the second deposit\n",
    "- pdv_1 to 5: Quantity that must be sent directly from the M represented by this particular file to each selling point (without going through deposits)."
   ]
  },
  {
   "cell_type": "code",
   "execution_count": 8,
   "id": "39aebbd7",
   "metadata": {},
   "outputs": [],
   "source": [
    "# Vuelo a importar todo por si acaso\n",
    "import pandas as pd\n",
    "import numpy as np\n",
    "from pulp import LpProblem, LpVariable, LpMinimize, lpSum, value"
   ]
  },
  {
   "cell_type": "code",
   "execution_count": null,
   "id": "f095ed39",
   "metadata": {},
   "outputs": [],
   "source": [
    "# Normalizo los datos de ventas directas sin deposito a USD/m³ en vez de USD/10m³\n",
    "pdv_columnas = [col for col in depositos.columns if col.startswith(\"pdv_\")]\n",
    "depositos[pdv_columnas] = depositos[pdv_columnas] / 10"
   ]
  },
  {
   "cell_type": "code",
   "execution_count": 10,
   "id": "93374a67",
   "metadata": {},
   "outputs": [],
   "source": [
    "# Inicializo el problema de puLP (La librería de programación lineal)\n",
    "problem = LpProblem(\"Minimize_Cost\", LpMinimize)\n",
    "\n",
    "# Marco mis variables de decisión tal que m es mi mercado, p es mi producto, d es mi deposito y pdv es mi punto de venta\n",
    "x = {(m, p, d): LpVariable(f\"x_{m}_{p}_{d}\", lowBound=0, cat=\"Continuous\")\n",
    "     for m in [\"M1\", \"M2\", \"M3\"]\n",
    "     for p in productos[\"producto_id\"]\n",
    "     for d in depositos[\"deposito\"]}\n",
    "\n",
    "y = {(m, p, pdv): LpVariable(f\"y_{m}_{p}_{pdv}\", lowBound=0, cat=\"Continuous\")\n",
    "     for m in [\"M1\", \"M2\", \"M3\"]\n",
    "     for p in productos[\"producto_id\"]\n",
    "     for pdv in [f\"pdv_{i}\" for i in range(1, 6)]}"
   ]
  },
  {
   "cell_type": "code",
   "execution_count": 11,
   "id": "51bdee44",
   "metadata": {},
   "outputs": [],
   "source": [
    "# Armo mi función objetivo tal que minimizo el costo total de los productos\n",
    "problem += lpSum(\n",
    "    productos.loc[productos[\"producto_id\"] == p, f\"costo_{m}_usd\"].values[0] * (lpSum(x[m, p, d] for d in depositos[\"deposito\"]) + lpSum(y[m, p, pdv] for pdv in [f\"pdv_{i}\" for i in range(1, 6)]))\n",
    "    + lpSum(mayoristas.loc[mayoristas[\"mayorista\"] == m, d].values[0] * x[m, p, d] for d in depositos[\"deposito\"])\n",
    "    + lpSum(mayoristas.loc[mayoristas[\"mayorista\"] == m, pdv].values[0] * y[m, p, pdv] for pdv in [f\"pdv_{i}\" for i in range(1, 6)])\n",
    "    for m in [\"M1\", \"M2\", \"M3\"]\n",
    "    for p in productos[\"producto_id\"]\n",
    ")"
   ]
  },
  {
   "cell_type": "code",
   "execution_count": null,
   "id": "ffa18744",
   "metadata": {},
   "outputs": [],
   "source": [
    "# Restricciones:\n",
    "\n",
    "    # 1. Que cumpla la demanda de cada producto en cada punto de venta\n",
    "for p in productos[\"producto_id\"]:\n",
    "    for pdv in [f\"pdv_{i}\" for i in range(1, 6)]:\n",
    "        demand = productos.loc[productos[\"producto_id\"] == p, pdv].values[0]\n",
    "        problem += lpSum(x[m, p, d] for m in [\"M1\", \"M2\", \"M3\"] for d in depositos[\"deposito\"]) + lpSum(y[m, p, pdv] for m in [\"M1\", \"M2\", \"M3\"]) == demand\n",
    "\n",
    "    # 2. Que no se sobrepase el límite de ningún depósito\n",
    "for d in depositos[\"deposito\"]:\n",
    "    capacity = depositos.loc[depositos[\"deposito\"] == d, \"capacidad_m3\"].values[0]\n",
    "    problem += lpSum(x[m, p, d] * productos.loc[productos[\"producto_id\"] == p, \"volumen_m3\"].values[0] for m in [\"M1\", \"M2\", \"M3\"] for p in productos[\"producto_id\"]) <= capacity"
   ]
  },
  {
   "cell_type": "code",
   "execution_count": 13,
   "id": "e4345419",
   "metadata": {},
   "outputs": [
    {
     "name": "stdout",
     "output_type": "stream",
     "text": [
      "Welcome to the CBC MILP Solver \n",
      "Version: 2.10.3 \n",
      "Build Date: Dec 15 2019 \n",
      "\n",
      "command line - /home/valnir/.local/lib/python3.12/site-packages/pulp/apis/../solverdir/cbc/linux/i64/cbc /tmp/3c721c2fb6a14581892f0e6076d0b7cc-pulp.mps -timeMode elapsed -branch -printingOptions all -solution /tmp/3c721c2fb6a14581892f0e6076d0b7cc-pulp.sol (default strategy 1)\n",
      "At line 2 NAME          MODEL\n",
      "At line 3 ROWS\n",
      "At line 507 COLUMNS\n",
      "At line 7708 RHS\n",
      "At line 8211 BOUNDS\n",
      "At line 8212 ENDATA\n",
      "Problem MODEL has 502 rows, 2100 columns and 5100 elements\n",
      "Coin0008I MODEL read with 0 errors\n",
      "Option for timeMode changed from cpu to elapsed\n",
      "Presolve 0 (-502) rows, 0 (-2100) columns and 0 (-5100) elements\n",
      "Empty problem - 0 rows, 0 columns and 0 elements\n",
      "Optimal - objective value 2059587.1\n",
      "After Postsolve, objective 2059587.1, infeasibilities - dual 0 (0), primal 0 (0)\n",
      "Optimal objective 2059587.11 - 0 iterations time 0.002, Presolve 0.00\n",
      "Option for printingOptions changed from normal to all\n",
      "Total time (CPU seconds):       0.01   (Wallclock seconds):       0.01\n",
      "\n"
     ]
    },
    {
     "data": {
      "text/plain": [
       "1"
      ]
     },
     "execution_count": 13,
     "metadata": {},
     "output_type": "execute_result"
    }
   ],
   "source": [
    "# Resuelvo\n",
    "problem.solve()"
   ]
  },
  {
   "cell_type": "code",
   "execution_count": 14,
   "id": "1b8a758c",
   "metadata": {},
   "outputs": [],
   "source": [
    "# Extraigo mis resultados a 3 .csv diferentes, uno por cada mayorista\n",
    "for m in [\"M1\", \"M2\", \"M3\"]:\n",
    "    results = []\n",
    "    for p in productos[\"producto_id\"]:\n",
    "        row = {\n",
    "            \"producto_id\": p,\n",
    "            \"cantidad_total\": sum(value(x[m, p, d]) for d in depositos[\"deposito\"]) + sum(value(y[m, p, pdv]) for pdv in [f\"pdv_{i}\" for i in range(1, 6)]),\n",
    "        }\n",
    "        for d in depositos[\"deposito\"]:\n",
    "            row[d] = value(x[m, p, d])\n",
    "        for pdv in [f\"pdv_{i}\" for i in range(1, 6)]:\n",
    "            row[pdv] = value(y[m, p, pdv])\n",
    "        results.append(row)\n",
    "    pd.DataFrame(results).to_csv(f\"Resultados/buy_orders_{m}.csv\", index=False)"
   ]
  },
  {
   "cell_type": "markdown",
   "id": "1e905d64",
   "metadata": {},
   "source": [
    "Reviso unos cuantos datos de mis resultados para analizarlos:"
   ]
  },
  {
   "cell_type": "code",
   "execution_count": 15,
   "id": "ca4290e3",
   "metadata": {},
   "outputs": [],
   "source": [
    "M1 = pd.read_csv(\"Resultados/buy_orders_M1.csv\")\n",
    "M2 = pd.read_csv(\"Resultados/buy_orders_M2.csv\")\n",
    "M3 = pd.read_csv(\"Resultados/buy_orders_M3.csv\")"
   ]
  },
  {
   "cell_type": "code",
   "execution_count": 16,
   "id": "9d7dce3b",
   "metadata": {},
   "outputs": [
    {
     "data": {
      "text/plain": [
       "np.float64(0.0)"
      ]
     },
     "execution_count": 16,
     "metadata": {},
     "output_type": "execute_result"
    }
   ],
   "source": [
    "M1[\"cantidad_total\"].sum()"
   ]
  },
  {
   "cell_type": "code",
   "execution_count": 17,
   "id": "ff5a0b7c",
   "metadata": {},
   "outputs": [
    {
     "data": {
      "text/plain": [
       "np.float64(0.0)"
      ]
     },
     "execution_count": 17,
     "metadata": {},
     "output_type": "execute_result"
    }
   ],
   "source": [
    "M2[\"cantidad_total\"].sum()"
   ]
  },
  {
   "cell_type": "code",
   "execution_count": 18,
   "id": "45c3778e",
   "metadata": {},
   "outputs": [
    {
     "data": {
      "text/plain": [
       "np.float64(17380.0)"
      ]
     },
     "execution_count": 18,
     "metadata": {},
     "output_type": "execute_result"
    }
   ],
   "source": [
    "M3[\"cantidad_total\"].sum()"
   ]
  },
  {
   "cell_type": "markdown",
   "id": "efae2eee",
   "metadata": {},
   "source": [
    "La totalidad de los productos pasa por M3.\n",
    "\n"
   ]
  },
  {
   "cell_type": "code",
   "execution_count": null,
   "id": "7cc8d9fd",
   "metadata": {},
   "outputs": [
    {
     "name": "stdout",
     "output_type": "stream",
     "text": [
      "Costo total de M1: 0.0\n",
      "Costo total de M2: 0.0\n",
      "Costo total de M3: 2059587.11\n",
      "Costo total: 2059587.11\n"
     ]
    }
   ],
   "source": [
    "# Calcula el costo total de cada mayorista\n",
    "def calculate_cost(df, market):\n",
    "    costo_compra = df[\"producto_id\"].apply(\n",
    "        lambda p: productos.loc[productos[\"producto_id\"] == p, f\"costo_{market}_usd\"].values[0]\n",
    "    ) * df[\"cantidad_total\"]\n",
    "    \n",
    "    costo_transporte_depositos = sum(\n",
    "        df[d] * mayoristas.loc[mayoristas[\"mayorista\"] == market, d].values[0]\n",
    "        for d in depositos[\"deposito\"]\n",
    "    )\n",
    "    \n",
    "    costo_transporte_pdv = sum(\n",
    "        df[pdv] * mayoristas.loc[mayoristas[\"mayorista\"] == market, pdv].values[0]\n",
    "        for pdv in [f\"pdv_{i}\" for i in range(1, 6)]\n",
    "    )\n",
    "    \n",
    "    return costo_compra.sum() + costo_transporte_depositos.sum() + costo_transporte_pdv.sum()\n",
    "\n",
    "# Calculate total cost for each market\n",
    "total_cost_M1 = calculate_cost(M1, \"M1\")\n",
    "total_cost_M2 = calculate_cost(M2, \"M2\")\n",
    "total_cost_M3 = calculate_cost(M3, \"M3\")\n",
    "\n",
    "# Sum up all costs\n",
    "total_cost = total_cost_M1 + total_cost_M2 + total_cost_M3\n",
    "\n",
    "# Imprimo\n",
    "print(f\"Costo total de M1: {total_cost_M1}\")\n",
    "print(f\"Costo total de M2: {total_cost_M2}\")\n",
    "print(f\"Costo total de M3: {total_cost_M3}\")\n",
    "print(f\"Costo total: {total_cost}\")"
   ]
  },
  {
   "cell_type": "markdown",
   "id": "e459f721",
   "metadata": {},
   "source": [
    "Ahora reviso cuanto va a cada deposito:"
   ]
  },
  {
   "cell_type": "code",
   "execution_count": 23,
   "id": "511d6721",
   "metadata": {},
   "outputs": [],
   "source": [
    "# Calculate the quantity and volume of goods in each deposit\n",
    "res_dep = []\n",
    "\n",
    "for d in depositos[\"deposito\"]:\n",
    "    total_quantity = sum(value(x[m, p, d]) for m in [\"M1\", \"M2\", \"M3\"] for p in productos[\"producto_id\"])\n",
    "    total_volume = sum(\n",
    "        value(x[m, p, d]) * productos.loc[productos[\"producto_id\"] == p, \"volumen_m3\"].values[0]\n",
    "        for m in [\"M1\", \"M2\", \"M3\"]\n",
    "        for p in productos[\"producto_id\"]\n",
    "    )\n",
    "    res_dep.append({\"deposito\": d, \"total_quantity\": total_quantity, \"total_volume\": total_volume})\n",
    "\n",
    "# Lo hago un dataframe para que sea más fácil de leer\n",
    "resumen_depositos = pd.DataFrame(res_dep)"
   ]
  },
  {
   "cell_type": "code",
   "execution_count": 24,
   "id": "84416bed",
   "metadata": {},
   "outputs": [
    {
     "data": {
      "text/html": [
       "<div>\n",
       "<style scoped>\n",
       "    .dataframe tbody tr th:only-of-type {\n",
       "        vertical-align: middle;\n",
       "    }\n",
       "\n",
       "    .dataframe tbody tr th {\n",
       "        vertical-align: top;\n",
       "    }\n",
       "\n",
       "    .dataframe thead th {\n",
       "        text-align: right;\n",
       "    }\n",
       "</style>\n",
       "<table border=\"1\" class=\"dataframe\">\n",
       "  <thead>\n",
       "    <tr style=\"text-align: right;\">\n",
       "      <th></th>\n",
       "      <th>deposito</th>\n",
       "      <th>total_quantity</th>\n",
       "      <th>total_volume</th>\n",
       "    </tr>\n",
       "  </thead>\n",
       "  <tbody>\n",
       "    <tr>\n",
       "      <th>0</th>\n",
       "      <td>D1_DEP</td>\n",
       "      <td>0.0</td>\n",
       "      <td>0.000</td>\n",
       "    </tr>\n",
       "    <tr>\n",
       "      <th>1</th>\n",
       "      <td>D2_DEP</td>\n",
       "      <td>203.0</td>\n",
       "      <td>40.887</td>\n",
       "    </tr>\n",
       "  </tbody>\n",
       "</table>\n",
       "</div>"
      ],
      "text/plain": [
       "  deposito  total_quantity  total_volume\n",
       "0   D1_DEP             0.0         0.000\n",
       "1   D2_DEP           203.0        40.887"
      ]
     },
     "execution_count": 24,
     "metadata": {},
     "output_type": "execute_result"
    }
   ],
   "source": [
    "resumen_depositos"
   ]
  },
  {
   "cell_type": "markdown",
   "id": "2be7cbee",
   "metadata": {},
   "source": [
    "Corroboro"
   ]
  },
  {
   "cell_type": "code",
   "execution_count": 28,
   "id": "c576518a",
   "metadata": {},
   "outputs": [],
   "source": [
    "Vol_tot = productos[\"volumen_m3\"].sum() * productos[\"demanda_total\"].sum()"
   ]
  },
  {
   "cell_type": "code",
   "execution_count": 29,
   "id": "ea9f99ca",
   "metadata": {},
   "outputs": [
    {
     "data": {
      "text/plain": [
       "np.float64(355216.99199999997)"
      ]
     },
     "execution_count": 29,
     "metadata": {},
     "output_type": "execute_result"
    }
   ],
   "source": [
    "Vol_tot"
   ]
  },
  {
   "cell_type": "markdown",
   "id": "6eac129f",
   "metadata": {},
   "source": [
    "Como todos mis productos entran en el dep 2, no hay precio mayor a 0 por el cual estaría dispuesto a aumentar la capacidad de D1."
   ]
  }
 ],
 "metadata": {
  "kernelspec": {
   "display_name": "Python 3",
   "language": "python",
   "name": "python3"
  },
  "language_info": {
   "codemirror_mode": {
    "name": "ipython",
    "version": 3
   },
   "file_extension": ".py",
   "mimetype": "text/x-python",
   "name": "python",
   "nbconvert_exporter": "python",
   "pygments_lexer": "ipython3",
   "version": "3.12.3"
  }
 },
 "nbformat": 4,
 "nbformat_minor": 5
}
