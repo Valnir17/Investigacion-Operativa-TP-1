{
 "cells": [
  {
   "cell_type": "markdown",
   "id": "18564ac3",
   "metadata": {},
   "source": [
    "# Este .ipynb está obsoleto y sólo se dejó por motivos de Archivo y que se vea todo el procedimiento que hice para eventualmente reintentarlo en ETL2 - Intento 2. "
   ]
  },
  {
   "cell_type": "code",
   "execution_count": 30,
   "id": "9838433b",
   "metadata": {},
   "outputs": [],
   "source": [
    "import pandas as pd\n",
    "import numpy as np\n",
    "from pulp import LpProblem, LpVariable, LpMinimize, lpSum, LpStatus, value"
   ]
  },
  {
   "cell_type": "code",
   "execution_count": 31,
   "id": "2fbaa2c9",
   "metadata": {},
   "outputs": [],
   "source": [
    "depositos = pd.read_csv('Archivos Intermedios/filtered_depositos.csv')\n",
    "mayoristas = pd.read_csv('Archivos Intermedios/filtered_mayoristas.csv')\n",
    "productos = pd.read_csv('Archivos Intermedios/filtered_productos.csv')"
   ]
  },
  {
   "cell_type": "code",
   "execution_count": 32,
   "id": "ffab956d",
   "metadata": {},
   "outputs": [
    {
     "data": {
      "text/html": [
       "<div>\n",
       "<style scoped>\n",
       "    .dataframe tbody tr th:only-of-type {\n",
       "        vertical-align: middle;\n",
       "    }\n",
       "\n",
       "    .dataframe tbody tr th {\n",
       "        vertical-align: top;\n",
       "    }\n",
       "\n",
       "    .dataframe thead th {\n",
       "        text-align: right;\n",
       "    }\n",
       "</style>\n",
       "<table border=\"1\" class=\"dataframe\">\n",
       "  <thead>\n",
       "    <tr style=\"text-align: right;\">\n",
       "      <th></th>\n",
       "      <th>deposito</th>\n",
       "      <th>capacidad_m3</th>\n",
       "      <th>pdv_1</th>\n",
       "      <th>pdv_2</th>\n",
       "      <th>pdv_3</th>\n",
       "      <th>pdv_4</th>\n",
       "      <th>pdv_5</th>\n",
       "    </tr>\n",
       "  </thead>\n",
       "  <tbody>\n",
       "    <tr>\n",
       "      <th>0</th>\n",
       "      <td>D1_DEP</td>\n",
       "      <td>1500</td>\n",
       "      <td>11.32</td>\n",
       "      <td>11.78</td>\n",
       "      <td>17.97</td>\n",
       "      <td>17.78</td>\n",
       "      <td>15.13</td>\n",
       "    </tr>\n",
       "    <tr>\n",
       "      <th>1</th>\n",
       "      <td>D2_DEP</td>\n",
       "      <td>1300</td>\n",
       "      <td>18.22</td>\n",
       "      <td>16.45</td>\n",
       "      <td>16.79</td>\n",
       "      <td>9.80</td>\n",
       "      <td>10.03</td>\n",
       "    </tr>\n",
       "  </tbody>\n",
       "</table>\n",
       "</div>"
      ],
      "text/plain": [
       "  deposito  capacidad_m3  pdv_1  pdv_2  pdv_3  pdv_4  pdv_5\n",
       "0   D1_DEP          1500  11.32  11.78  17.97  17.78  15.13\n",
       "1   D2_DEP          1300  18.22  16.45  16.79   9.80  10.03"
      ]
     },
     "execution_count": 32,
     "metadata": {},
     "output_type": "execute_result"
    }
   ],
   "source": [
    "depositos"
   ]
  },
  {
   "cell_type": "code",
   "execution_count": 33,
   "id": "2e6b2435",
   "metadata": {},
   "outputs": [
    {
     "data": {
      "text/html": [
       "<div>\n",
       "<style scoped>\n",
       "    .dataframe tbody tr th:only-of-type {\n",
       "        vertical-align: middle;\n",
       "    }\n",
       "\n",
       "    .dataframe tbody tr th {\n",
       "        vertical-align: top;\n",
       "    }\n",
       "\n",
       "    .dataframe thead th {\n",
       "        text-align: right;\n",
       "    }\n",
       "</style>\n",
       "<table border=\"1\" class=\"dataframe\">\n",
       "  <thead>\n",
       "    <tr style=\"text-align: right;\">\n",
       "      <th></th>\n",
       "      <th>mayorista</th>\n",
       "      <th>D1_DEP</th>\n",
       "      <th>D2_DEP</th>\n",
       "      <th>pdv_1</th>\n",
       "      <th>pdv_2</th>\n",
       "      <th>pdv_3</th>\n",
       "      <th>pdv_4</th>\n",
       "      <th>pdv_5</th>\n",
       "    </tr>\n",
       "  </thead>\n",
       "  <tbody>\n",
       "    <tr>\n",
       "      <th>0</th>\n",
       "      <td>M1</td>\n",
       "      <td>14.88</td>\n",
       "      <td>24.75</td>\n",
       "      <td>29.79</td>\n",
       "      <td>33.88</td>\n",
       "      <td>26.08</td>\n",
       "      <td>27.21</td>\n",
       "      <td>26.10</td>\n",
       "    </tr>\n",
       "    <tr>\n",
       "      <th>1</th>\n",
       "      <td>M2</td>\n",
       "      <td>20.04</td>\n",
       "      <td>17.15</td>\n",
       "      <td>32.92</td>\n",
       "      <td>32.76</td>\n",
       "      <td>33.67</td>\n",
       "      <td>36.24</td>\n",
       "      <td>39.47</td>\n",
       "    </tr>\n",
       "    <tr>\n",
       "      <th>2</th>\n",
       "      <td>M3</td>\n",
       "      <td>19.22</td>\n",
       "      <td>17.24</td>\n",
       "      <td>30.16</td>\n",
       "      <td>29.16</td>\n",
       "      <td>39.95</td>\n",
       "      <td>36.26</td>\n",
       "      <td>34.67</td>\n",
       "    </tr>\n",
       "  </tbody>\n",
       "</table>\n",
       "</div>"
      ],
      "text/plain": [
       "  mayorista  D1_DEP  D2_DEP  pdv_1  pdv_2  pdv_3  pdv_4  pdv_5\n",
       "0        M1   14.88   24.75  29.79  33.88  26.08  27.21  26.10\n",
       "1        M2   20.04   17.15  32.92  32.76  33.67  36.24  39.47\n",
       "2        M3   19.22   17.24  30.16  29.16  39.95  36.26  34.67"
      ]
     },
     "execution_count": 33,
     "metadata": {},
     "output_type": "execute_result"
    }
   ],
   "source": [
    "mayoristas"
   ]
  },
  {
   "cell_type": "code",
   "execution_count": 34,
   "id": "a399fd65",
   "metadata": {},
   "outputs": [
    {
     "data": {
      "text/html": [
       "<div>\n",
       "<style scoped>\n",
       "    .dataframe tbody tr th:only-of-type {\n",
       "        vertical-align: middle;\n",
       "    }\n",
       "\n",
       "    .dataframe tbody tr th {\n",
       "        vertical-align: top;\n",
       "    }\n",
       "\n",
       "    .dataframe thead th {\n",
       "        text-align: right;\n",
       "    }\n",
       "</style>\n",
       "<table border=\"1\" class=\"dataframe\">\n",
       "  <thead>\n",
       "    <tr style=\"text-align: right;\">\n",
       "      <th></th>\n",
       "      <th>producto_id</th>\n",
       "      <th>volumen_m3</th>\n",
       "      <th>costo_M1_usd</th>\n",
       "      <th>costo_M2_usd</th>\n",
       "      <th>costo_M3_usd</th>\n",
       "      <th>pdv_1</th>\n",
       "      <th>pdv_2</th>\n",
       "      <th>pdv_3</th>\n",
       "      <th>pdv_4</th>\n",
       "      <th>pdv_5</th>\n",
       "      <th>demanda_total</th>\n",
       "      <th>volumen_total</th>\n",
       "    </tr>\n",
       "  </thead>\n",
       "  <tbody>\n",
       "    <tr>\n",
       "      <th>0</th>\n",
       "      <td>DEP1</td>\n",
       "      <td>0.232</td>\n",
       "      <td>105.24</td>\n",
       "      <td>95.67</td>\n",
       "      <td>81.32</td>\n",
       "      <td>0</td>\n",
       "      <td>0</td>\n",
       "      <td>0</td>\n",
       "      <td>69</td>\n",
       "      <td>25</td>\n",
       "      <td>94</td>\n",
       "      <td>21.808</td>\n",
       "    </tr>\n",
       "    <tr>\n",
       "      <th>1</th>\n",
       "      <td>DEP2</td>\n",
       "      <td>0.180</td>\n",
       "      <td>103.43</td>\n",
       "      <td>94.03</td>\n",
       "      <td>79.93</td>\n",
       "      <td>5</td>\n",
       "      <td>92</td>\n",
       "      <td>7</td>\n",
       "      <td>99</td>\n",
       "      <td>27</td>\n",
       "      <td>230</td>\n",
       "      <td>41.400</td>\n",
       "    </tr>\n",
       "    <tr>\n",
       "      <th>2</th>\n",
       "      <td>DEP3</td>\n",
       "      <td>0.186</td>\n",
       "      <td>129.94</td>\n",
       "      <td>118.13</td>\n",
       "      <td>100.41</td>\n",
       "      <td>98</td>\n",
       "      <td>0</td>\n",
       "      <td>0</td>\n",
       "      <td>61</td>\n",
       "      <td>0</td>\n",
       "      <td>159</td>\n",
       "      <td>29.574</td>\n",
       "    </tr>\n",
       "    <tr>\n",
       "      <th>3</th>\n",
       "      <td>DEP4</td>\n",
       "      <td>0.156</td>\n",
       "      <td>108.92</td>\n",
       "      <td>99.02</td>\n",
       "      <td>84.17</td>\n",
       "      <td>44</td>\n",
       "      <td>19</td>\n",
       "      <td>0</td>\n",
       "      <td>70</td>\n",
       "      <td>0</td>\n",
       "      <td>133</td>\n",
       "      <td>20.748</td>\n",
       "    </tr>\n",
       "    <tr>\n",
       "      <th>4</th>\n",
       "      <td>DEP5</td>\n",
       "      <td>0.211</td>\n",
       "      <td>114.36</td>\n",
       "      <td>103.96</td>\n",
       "      <td>88.37</td>\n",
       "      <td>19</td>\n",
       "      <td>34</td>\n",
       "      <td>26</td>\n",
       "      <td>13</td>\n",
       "      <td>84</td>\n",
       "      <td>176</td>\n",
       "      <td>37.136</td>\n",
       "    </tr>\n",
       "    <tr>\n",
       "      <th>...</th>\n",
       "      <td>...</td>\n",
       "      <td>...</td>\n",
       "      <td>...</td>\n",
       "      <td>...</td>\n",
       "      <td>...</td>\n",
       "      <td>...</td>\n",
       "      <td>...</td>\n",
       "      <td>...</td>\n",
       "      <td>...</td>\n",
       "      <td>...</td>\n",
       "      <td>...</td>\n",
       "      <td>...</td>\n",
       "    </tr>\n",
       "    <tr>\n",
       "      <th>95</th>\n",
       "      <td>DEP96</td>\n",
       "      <td>0.200</td>\n",
       "      <td>101.31</td>\n",
       "      <td>92.10</td>\n",
       "      <td>78.28</td>\n",
       "      <td>55</td>\n",
       "      <td>30</td>\n",
       "      <td>67</td>\n",
       "      <td>27</td>\n",
       "      <td>0</td>\n",
       "      <td>179</td>\n",
       "      <td>35.800</td>\n",
       "    </tr>\n",
       "    <tr>\n",
       "      <th>96</th>\n",
       "      <td>DEP97</td>\n",
       "      <td>0.219</td>\n",
       "      <td>98.49</td>\n",
       "      <td>89.54</td>\n",
       "      <td>76.11</td>\n",
       "      <td>82</td>\n",
       "      <td>45</td>\n",
       "      <td>0</td>\n",
       "      <td>95</td>\n",
       "      <td>32</td>\n",
       "      <td>254</td>\n",
       "      <td>55.626</td>\n",
       "    </tr>\n",
       "    <tr>\n",
       "      <th>97</th>\n",
       "      <td>DEP98</td>\n",
       "      <td>0.174</td>\n",
       "      <td>112.12</td>\n",
       "      <td>101.93</td>\n",
       "      <td>86.64</td>\n",
       "      <td>0</td>\n",
       "      <td>72</td>\n",
       "      <td>74</td>\n",
       "      <td>97</td>\n",
       "      <td>29</td>\n",
       "      <td>272</td>\n",
       "      <td>47.328</td>\n",
       "    </tr>\n",
       "    <tr>\n",
       "      <th>98</th>\n",
       "      <td>DEP99</td>\n",
       "      <td>0.189</td>\n",
       "      <td>127.64</td>\n",
       "      <td>116.04</td>\n",
       "      <td>98.63</td>\n",
       "      <td>0</td>\n",
       "      <td>36</td>\n",
       "      <td>36</td>\n",
       "      <td>0</td>\n",
       "      <td>17</td>\n",
       "      <td>89</td>\n",
       "      <td>16.821</td>\n",
       "    </tr>\n",
       "    <tr>\n",
       "      <th>99</th>\n",
       "      <td>DEP100</td>\n",
       "      <td>0.185</td>\n",
       "      <td>116.44</td>\n",
       "      <td>105.85</td>\n",
       "      <td>89.97</td>\n",
       "      <td>0</td>\n",
       "      <td>60</td>\n",
       "      <td>0</td>\n",
       "      <td>47</td>\n",
       "      <td>9</td>\n",
       "      <td>116</td>\n",
       "      <td>21.460</td>\n",
       "    </tr>\n",
       "  </tbody>\n",
       "</table>\n",
       "<p>100 rows × 12 columns</p>\n",
       "</div>"
      ],
      "text/plain": [
       "   producto_id  volumen_m3  costo_M1_usd  costo_M2_usd  costo_M3_usd  pdv_1  \\\n",
       "0         DEP1       0.232        105.24         95.67         81.32      0   \n",
       "1         DEP2       0.180        103.43         94.03         79.93      5   \n",
       "2         DEP3       0.186        129.94        118.13        100.41     98   \n",
       "3         DEP4       0.156        108.92         99.02         84.17     44   \n",
       "4         DEP5       0.211        114.36        103.96         88.37     19   \n",
       "..         ...         ...           ...           ...           ...    ...   \n",
       "95       DEP96       0.200        101.31         92.10         78.28     55   \n",
       "96       DEP97       0.219         98.49         89.54         76.11     82   \n",
       "97       DEP98       0.174        112.12        101.93         86.64      0   \n",
       "98       DEP99       0.189        127.64        116.04         98.63      0   \n",
       "99      DEP100       0.185        116.44        105.85         89.97      0   \n",
       "\n",
       "    pdv_2  pdv_3  pdv_4  pdv_5  demanda_total  volumen_total  \n",
       "0       0      0     69     25             94         21.808  \n",
       "1      92      7     99     27            230         41.400  \n",
       "2       0      0     61      0            159         29.574  \n",
       "3      19      0     70      0            133         20.748  \n",
       "4      34     26     13     84            176         37.136  \n",
       "..    ...    ...    ...    ...            ...            ...  \n",
       "95     30     67     27      0            179         35.800  \n",
       "96     45      0     95     32            254         55.626  \n",
       "97     72     74     97     29            272         47.328  \n",
       "98     36     36      0     17             89         16.821  \n",
       "99     60      0     47      9            116         21.460  \n",
       "\n",
       "[100 rows x 12 columns]"
      ]
     },
     "execution_count": 34,
     "metadata": {},
     "output_type": "execute_result"
    }
   ],
   "source": [
    "productos"
   ]
  },
  {
   "cell_type": "markdown",
   "id": "29fd5606",
   "metadata": {},
   "source": [
    "# ***Texto adicional en inglés para obtener mejores resultados con las IAs cuando tenga dudas***\n",
    "\n",
    "\n",
    "I have 3 dataframes: mayoristas, productos and depositos\n",
    "\n",
    "## Mayoristas\n",
    "Has the following columns:\n",
    "- mayorista: Represents to which buying center all other attributes correspond. Has only 3 values (or lines); \"M1\", \"M2\" and \"M3\"\n",
    "- D1_DEP: Transportation cost per cubic meter from the corresponding M to D1\n",
    "- D2_DEP: Transportation cost per cubic meter from the corresponding M to D2\n",
    "- pdv_1: Transportation cost per cubic meter from the corresponding M to the selling point 1 (directly, instead of going through deposits)\n",
    "- pdv_2: Transportation cost per cubic meter from the corresponding M to the selling point 2 (directly, instead of going through deposits)\n",
    "- pdv_3: Transportation cost per cubic meter from the corresponding M to the selling point 3 (directly, instead of going through deposits)\n",
    "- pdv_4: Transportation cost per cubic meter from the corresponding M to the selling point 4 (directly, instead of going through deposits)\n",
    "- pdv_5: Transportation cost per cubic meter from the corresponding M to the selling point 5 (directly, instead of going through deposits)\n",
    "\n",
    "## Depositos\n",
    "Has the following columns:\n",
    "- deposito: Represents to which deposit all other attributes correspond. Has only 2 values (or lines); \"D1_DEP\", \"D2_DEP\" and \"D3_DEP\"\n",
    "- capacidad_m3: The volume of goods each deposit can hold in cubic meters\n",
    "- pdv_1 to pdv_5: Cost of transportation per cubic meter from the corresponding deposit to the selected selling point (pdv) shown in USD/(10m^{3})\n",
    "\n",
    "\n",
    "## Productos\n",
    "- producto_id: The identifier for each product\n",
    "- volumen_m3: the volume cubic meters of a unit the corresponding good\n",
    "- costo_M1_usd: Cost per unit of the corresponding good in USD to the M1 (closer, but more expensive)\n",
    "- costo_M2_usd: Cost per unit of the corresponding good in USD to the M2 (intermediate)\n",
    "- costo_M3_usd: Cost per unit of the corresponding good in USD to the M3 (furthest away, but cheapest)\n",
    "- pdv_1 to 5: Ammount of each product demanded by each selling point (shown in units of the good)\n",
    "- demanda_total: Sum of the corresponding pdv_1 to 5\n",
    "- volumen_total: volumen_m3*demanda_total\n",
    "\n",
    "\n",
    "\n",
    "# What's being asked?\n",
    "Create 3 csv files representing the buy orders to the 3 buying points (M1, M2 and M3)\n",
    "The files should have the following columns:\n",
    "- producto_id: The identifier for each product\n",
    "- cantidad_total: The quantity that must be bought from the buying point that corresponded to the file. \n",
    "- D1_DEP: Quantity of the corresponding good that must be sent to the first deposit\n",
    "- D1_DEP: Quantity of the corresponding good that must be sent to the second deposit\n",
    "- pdv_1 to 5: Quantity that must be sent directly from the M represented by this particular file to each selling point (without going through deposits)."
   ]
  },
  {
   "cell_type": "code",
   "execution_count": 35,
   "id": "39aebbd7",
   "metadata": {},
   "outputs": [],
   "source": [
    "# Vuelo a importar todo por si acaso\n",
    "import pandas as pd\n",
    "import numpy as np\n",
    "from pulp import LpProblem, LpVariable, LpMinimize, lpSum, value"
   ]
  },
  {
   "cell_type": "code",
   "execution_count": 36,
   "id": "f095ed39",
   "metadata": {},
   "outputs": [],
   "source": [
    "# Normalizo los datos de ventas directas sin deposito a USD/m³ en vez de USD/10m³\n",
    "pdv_columnas = [col for col in depositos.columns if col.startswith(\"pdv_\")]\n",
    "depositos[pdv_columnas] = depositos[pdv_columnas] / 10"
   ]
  },
  {
   "cell_type": "markdown",
   "id": "a25baf43",
   "metadata": {},
   "source": [
    "# ***EL PROBLEMA ESTÁ EN ESTOS BLOQUES***"
   ]
  },
  {
   "cell_type": "code",
   "execution_count": null,
   "id": "93374a67",
   "metadata": {},
   "outputs": [],
   "source": [
    "# Inicializo el problema de puLP (La librería de programación lineal)\n",
    "problem = LpProblem(\"Minimize_Cost\", LpMinimize)\n",
    "\n",
    "# Marco mis variables de decisión tal que m es mi mercado, p es mi producto, d es mi deposito y pdv es mi punto de venta\n",
    "#? Sospecho que el error puede estar acá que haya definido mal las variables de decisión\n",
    "\n",
    "x = {(m, p, d): LpVariable(f\"x_{m}_{p}_{d}\", lowBound=0, cat=\"Continuous\")\n",
    "     for m in [\"M1\", \"M2\", \"M3\"]\n",
    "     for p in productos[\"producto_id\"]\n",
    "     for d in depositos[\"deposito\"]}\n",
    "\n",
    "y = {(m, p, pdv): LpVariable(f\"y_{m}_{p}_{pdv}\", lowBound=0, cat=\"Continuous\")\n",
    "     for m in [\"M1\", \"M2\", \"M3\"]\n",
    "     for p in productos[\"producto_id\"]\n",
    "     for pdv in [f\"pdv_{i}\" for i in range(1, 6)]}"
   ]
  },
  {
   "cell_type": "code",
   "execution_count": null,
   "id": "51bdee44",
   "metadata": {},
   "outputs": [],
   "source": [
    "# Armo mi función objetivo/funciona tal que minimizo el costo total de los productos\n",
    "# ? Si el problema está acá es que estoy armando bien las partes de la función objetivo (poco probable) o tuve un error de no convertir unidades (muy probable)\n",
    "problem += lpSum(\n",
    "    productos.loc[productos[\"producto_id\"] == p, f\"costo_{m}_usd\"].values[0] * (lpSum(x[m, p, d] for d in depositos[\"deposito\"]) + lpSum(y[m, p, pdv] for pdv in [f\"pdv_{i}\" for i in range(1, 6)]))\n",
    "    + lpSum(mayoristas.loc[mayoristas[\"mayorista\"] == m, d].values[0] * x[m, p, d] for d in depositos[\"deposito\"])\n",
    "    + lpSum(mayoristas.loc[mayoristas[\"mayorista\"] == m, pdv].values[0] * y[m, p, pdv] for pdv in [f\"pdv_{i}\" for i in range(1, 6)])\n",
    "    for m in [\"M1\", \"M2\", \"M3\"]\n",
    "    for p in productos[\"producto_id\"]\n",
    ")"
   ]
  },
  {
   "cell_type": "code",
   "execution_count": null,
   "id": "ffa18744",
   "metadata": {},
   "outputs": [],
   "source": [
    "# Restricciones:\n",
    "# ? Si El erros fue acá, sospecharía que más que nada puede ser que se calculan mal las cantidades o los volumenes\n",
    "\n",
    "    # 1. Que cumpla la demanda de cada producto en cada punto de venta\n",
    "for p in productos[\"producto_id\"]:\n",
    "    for pdv in [f\"pdv_{i}\" for i in range(1, 6)]:\n",
    "        demand = productos.loc[productos[\"producto_id\"] == p, pdv].values[0]\n",
    "        problem += lpSum(x[m, p, d] for m in [\"M1\", \"M2\", \"M3\"] for d in depositos[\"deposito\"]) + lpSum(y[m, p, pdv] for m in [\"M1\", \"M2\", \"M3\"]) == demand\n",
    "\n",
    "    # 2. Que no se sobrepase el límite de ningún depósito\n",
    "for d in depositos[\"deposito\"]:\n",
    "    capacity = depositos.loc[depositos[\"deposito\"] == d, \"capacidad_m3\"].values[0]\n",
    "    problem += lpSum(x[m, p, d] * productos.loc[productos[\"producto_id\"] == p, \"volumen_m3\"].values[0] for m in [\"M1\", \"M2\", \"M3\"] for p in productos[\"producto_id\"]) <= capacity"
   ]
  },
  {
   "cell_type": "markdown",
   "id": "1db8302d",
   "metadata": {},
   "source": [
    "# ***Último Bloque Dónde Puede Estar El Problema***"
   ]
  },
  {
   "cell_type": "code",
   "execution_count": 1,
   "id": "e4345419",
   "metadata": {},
   "outputs": [
    {
     "ename": "NameError",
     "evalue": "name 'problem' is not defined",
     "output_type": "error",
     "traceback": [
      "\u001b[0;31m---------------------------------------------------------------------------\u001b[0m",
      "\u001b[0;31mNameError\u001b[0m                                 Traceback (most recent call last)",
      "Cell \u001b[0;32mIn[1], line 2\u001b[0m\n\u001b[1;32m      1\u001b[0m \u001b[38;5;66;03m# Resuelvo\u001b[39;00m\n\u001b[0;32m----> 2\u001b[0m \u001b[43mproblem\u001b[49m\u001b[38;5;241m.\u001b[39msolve()\n",
      "\u001b[0;31mNameError\u001b[0m: name 'problem' is not defined"
     ]
    }
   ],
   "source": [
    "# Resuelvo\n",
    "problem.solve()"
   ]
  },
  {
   "cell_type": "code",
   "execution_count": null,
   "id": "1b8a758c",
   "metadata": {},
   "outputs": [],
   "source": [
    "# Extraigo mis resultados a 3 .csv diferentes, uno por cada mayorista\n",
    "for m in [\"M1\", \"M2\", \"M3\"]:\n",
    "    results = []\n",
    "    for p in productos[\"producto_id\"]:\n",
    "        row = {\n",
    "            \"producto_id\": p,\n",
    "            \"cantidad_total\": sum(value(x[m, p, d]) for d in depositos[\"deposito\"]) + sum(value(y[m, p, pdv]) for pdv in [f\"pdv_{i}\" for i in range(1, 6)]),\n",
    "        }\n",
    "        for d in depositos[\"deposito\"]:\n",
    "            row[d] = value(x[m, p, d])\n",
    "        for pdv in [f\"pdv_{i}\" for i in range(1, 6)]:\n",
    "            row[pdv] = value(y[m, p, pdv])\n",
    "        results.append(row)\n",
    "    pd.DataFrame(results).to_csv(f\"Resultados/buy_orders_{m}.csv\", index=False)"
   ]
  },
  {
   "cell_type": "markdown",
   "id": "1e905d64",
   "metadata": {},
   "source": [
    "Reviso unos cuantos datos de mis resultados para analizarlos:"
   ]
  },
  {
   "cell_type": "code",
   "execution_count": null,
   "id": "ca4290e3",
   "metadata": {},
   "outputs": [],
   "source": [
    "M1 = pd.read_csv(\"Resultados/buy_orders_M1.csv\")\n",
    "M2 = pd.read_csv(\"Resultados/buy_orders_M2.csv\")\n",
    "M3 = pd.read_csv(\"Resultados/buy_orders_M3.csv\")"
   ]
  },
  {
   "cell_type": "code",
   "execution_count": null,
   "id": "9d7dce3b",
   "metadata": {},
   "outputs": [
    {
     "data": {
      "text/plain": [
       "np.float64(0.0)"
      ]
     },
     "execution_count": 43,
     "metadata": {},
     "output_type": "execute_result"
    }
   ],
   "source": [
    "M1[\"cantidad_total\"].sum()"
   ]
  },
  {
   "cell_type": "code",
   "execution_count": null,
   "id": "ff5a0b7c",
   "metadata": {},
   "outputs": [
    {
     "data": {
      "text/plain": [
       "np.float64(0.0)"
      ]
     },
     "execution_count": 44,
     "metadata": {},
     "output_type": "execute_result"
    }
   ],
   "source": [
    "M2[\"cantidad_total\"].sum()"
   ]
  },
  {
   "cell_type": "code",
   "execution_count": null,
   "id": "45c3778e",
   "metadata": {},
   "outputs": [
    {
     "data": {
      "text/plain": [
       "np.float64(17380.0)"
      ]
     },
     "execution_count": 45,
     "metadata": {},
     "output_type": "execute_result"
    }
   ],
   "source": [
    "M3[\"cantidad_total\"].sum()"
   ]
  },
  {
   "cell_type": "markdown",
   "id": "efae2eee",
   "metadata": {},
   "source": [
    "La totalidad de los productos pasa por M3. Reviso si se satisface la totalidad de la demada"
   ]
  },
  {
   "cell_type": "code",
   "execution_count": null,
   "id": "e44579f4",
   "metadata": {},
   "outputs": [
    {
     "data": {
      "text/plain": [
       "np.int64(18192)"
      ]
     },
     "execution_count": 51,
     "metadata": {},
     "output_type": "execute_result"
    }
   ],
   "source": [
    "productos[\"demanda_total\"].sum()"
   ]
  },
  {
   "cell_type": "code",
   "execution_count": null,
   "id": "8467f2d8",
   "metadata": {},
   "outputs": [
    {
     "name": "stdout",
     "output_type": "stream",
     "text": [
      "-812.0\n"
     ]
    }
   ],
   "source": [
    "print(M3['cantidad_total'].sum()-productos[\"demanda_total\"].sum())"
   ]
  },
  {
   "cell_type": "markdown",
   "id": "0beece94",
   "metadata": {},
   "source": [
    "No estaría llegando a saciar la demanda total con el sistema que armé. faltan 812 unidades en total, distribuídas tal que:"
   ]
  },
  {
   "cell_type": "code",
   "execution_count": null,
   "id": "9c7964bd",
   "metadata": {},
   "outputs": [],
   "source": [
    "# Una mini función para ver si hay productos que no se cumplieron\n",
    "demanda_insatisfecha = []\n",
    "\n",
    "for p in productos[\"producto_id\"]:\n",
    "    total_suministrado = sum(\n",
    "        value(x[m, p, d]) for m in [\"M1\", \"M2\", \"M3\"] for d in depositos[\"deposito\"]\n",
    "    ) + sum(\n",
    "        value(y[m, p, pdv]) for m in [\"M1\", \"M2\", \"M3\"] for pdv in [f\"pdv_{i}\" for i in range(1, 6)]\n",
    "    )\n",
    "    demanda_total = productos.loc[productos[\"producto_id\"] == p, \"demanda_total\"].values[0]\n",
    "    if total_suministrado < demanda_total:\n",
    "        demanda_insatisfecha.append({\n",
    "            \"producto_id\": p,\n",
    "            \"total_suministrado\": total_suministrado,\n",
    "            \"demanda_total\": demanda_total,\n",
    "            \"insatisfecha\": demanda_total - total_suministrado\n",
    "        })\n",
    "\n",
    "# lo hago un df para que se vea más claro\n",
    "demanda_insatisfecha_df = pd.DataFrame(demanda_insatisfecha)"
   ]
  },
  {
   "cell_type": "code",
   "execution_count": null,
   "id": "010084e5",
   "metadata": {},
   "outputs": [
    {
     "data": {
      "text/html": [
       "<div>\n",
       "<style scoped>\n",
       "    .dataframe tbody tr th:only-of-type {\n",
       "        vertical-align: middle;\n",
       "    }\n",
       "\n",
       "    .dataframe tbody tr th {\n",
       "        vertical-align: top;\n",
       "    }\n",
       "\n",
       "    .dataframe thead th {\n",
       "        text-align: right;\n",
       "    }\n",
       "</style>\n",
       "<table border=\"1\" class=\"dataframe\">\n",
       "  <thead>\n",
       "    <tr style=\"text-align: right;\">\n",
       "      <th></th>\n",
       "      <th>producto_id</th>\n",
       "      <th>total_suministrado</th>\n",
       "      <th>demanda_total</th>\n",
       "      <th>insatisfecha</th>\n",
       "    </tr>\n",
       "  </thead>\n",
       "  <tbody>\n",
       "    <tr>\n",
       "      <th>0</th>\n",
       "      <td>DEP2</td>\n",
       "      <td>210.0</td>\n",
       "      <td>230</td>\n",
       "      <td>20.0</td>\n",
       "    </tr>\n",
       "    <tr>\n",
       "      <th>1</th>\n",
       "      <td>DEP5</td>\n",
       "      <td>124.0</td>\n",
       "      <td>176</td>\n",
       "      <td>52.0</td>\n",
       "    </tr>\n",
       "    <tr>\n",
       "      <th>2</th>\n",
       "      <td>DEP6</td>\n",
       "      <td>195.0</td>\n",
       "      <td>283</td>\n",
       "      <td>88.0</td>\n",
       "    </tr>\n",
       "    <tr>\n",
       "      <th>3</th>\n",
       "      <td>DEP9</td>\n",
       "      <td>301.0</td>\n",
       "      <td>321</td>\n",
       "      <td>20.0</td>\n",
       "    </tr>\n",
       "    <tr>\n",
       "      <th>4</th>\n",
       "      <td>DEP18</td>\n",
       "      <td>227.0</td>\n",
       "      <td>239</td>\n",
       "      <td>12.0</td>\n",
       "    </tr>\n",
       "    <tr>\n",
       "      <th>5</th>\n",
       "      <td>DEP25</td>\n",
       "      <td>246.0</td>\n",
       "      <td>286</td>\n",
       "      <td>40.0</td>\n",
       "    </tr>\n",
       "    <tr>\n",
       "      <th>6</th>\n",
       "      <td>DEP26</td>\n",
       "      <td>230.0</td>\n",
       "      <td>266</td>\n",
       "      <td>36.0</td>\n",
       "    </tr>\n",
       "    <tr>\n",
       "      <th>7</th>\n",
       "      <td>DEP30</td>\n",
       "      <td>197.0</td>\n",
       "      <td>217</td>\n",
       "      <td>20.0</td>\n",
       "    </tr>\n",
       "    <tr>\n",
       "      <th>8</th>\n",
       "      <td>DEP57</td>\n",
       "      <td>178.0</td>\n",
       "      <td>186</td>\n",
       "      <td>8.0</td>\n",
       "    </tr>\n",
       "    <tr>\n",
       "      <th>9</th>\n",
       "      <td>DEP65</td>\n",
       "      <td>139.0</td>\n",
       "      <td>187</td>\n",
       "      <td>48.0</td>\n",
       "    </tr>\n",
       "    <tr>\n",
       "      <th>10</th>\n",
       "      <td>DEP70</td>\n",
       "      <td>220.0</td>\n",
       "      <td>336</td>\n",
       "      <td>116.0</td>\n",
       "    </tr>\n",
       "    <tr>\n",
       "      <th>11</th>\n",
       "      <td>DEP73</td>\n",
       "      <td>193.0</td>\n",
       "      <td>277</td>\n",
       "      <td>84.0</td>\n",
       "    </tr>\n",
       "    <tr>\n",
       "      <th>12</th>\n",
       "      <td>DEP75</td>\n",
       "      <td>215.0</td>\n",
       "      <td>291</td>\n",
       "      <td>76.0</td>\n",
       "    </tr>\n",
       "    <tr>\n",
       "      <th>13</th>\n",
       "      <td>DEP82</td>\n",
       "      <td>176.0</td>\n",
       "      <td>280</td>\n",
       "      <td>104.0</td>\n",
       "    </tr>\n",
       "    <tr>\n",
       "      <th>14</th>\n",
       "      <td>DEP84</td>\n",
       "      <td>193.0</td>\n",
       "      <td>217</td>\n",
       "      <td>24.0</td>\n",
       "    </tr>\n",
       "    <tr>\n",
       "      <th>15</th>\n",
       "      <td>DEP92</td>\n",
       "      <td>226.0</td>\n",
       "      <td>290</td>\n",
       "      <td>64.0</td>\n",
       "    </tr>\n",
       "  </tbody>\n",
       "</table>\n",
       "</div>"
      ],
      "text/plain": [
       "   producto_id  total_suministrado  demanda_total  insatisfecha\n",
       "0         DEP2               210.0            230          20.0\n",
       "1         DEP5               124.0            176          52.0\n",
       "2         DEP6               195.0            283          88.0\n",
       "3         DEP9               301.0            321          20.0\n",
       "4        DEP18               227.0            239          12.0\n",
       "5        DEP25               246.0            286          40.0\n",
       "6        DEP26               230.0            266          36.0\n",
       "7        DEP30               197.0            217          20.0\n",
       "8        DEP57               178.0            186           8.0\n",
       "9        DEP65               139.0            187          48.0\n",
       "10       DEP70               220.0            336         116.0\n",
       "11       DEP73               193.0            277          84.0\n",
       "12       DEP75               215.0            291          76.0\n",
       "13       DEP82               176.0            280         104.0\n",
       "14       DEP84               193.0            217          24.0\n",
       "15       DEP92               226.0            290          64.0"
      ]
     },
     "execution_count": 62,
     "metadata": {},
     "output_type": "execute_result"
    }
   ],
   "source": [
    "demanda_insatisfecha_df"
   ]
  },
  {
   "cell_type": "code",
   "execution_count": null,
   "id": "263fd2f4",
   "metadata": {},
   "outputs": [
    {
     "data": {
      "text/plain": [
       "np.float64(812.0)"
      ]
     },
     "execution_count": 63,
     "metadata": {},
     "output_type": "execute_result"
    }
   ],
   "source": [
    "demanda_insatisfecha_df[\"insatisfecha\"].sum()"
   ]
  },
  {
   "cell_type": "code",
   "execution_count": null,
   "id": "7cc8d9fd",
   "metadata": {},
   "outputs": [
    {
     "name": "stdout",
     "output_type": "stream",
     "text": [
      "Costo total de M1: 0.0\n",
      "Costo total de M2: 0.0\n",
      "Costo total de M3: 2059587.11\n",
      "Costo total: 2059587.11\n"
     ]
    }
   ],
   "source": [
    "# Calcula el costo total de cada mayorista\n",
    "def calculate_cost(df, market):\n",
    "    costo_compra = df[\"producto_id\"].apply(\n",
    "        lambda p: productos.loc[productos[\"producto_id\"] == p, f\"costo_{market}_usd\"].values[0]\n",
    "    ) * df[\"cantidad_total\"]\n",
    "    \n",
    "    costo_transporte_depositos = sum(\n",
    "        df[d] * mayoristas.loc[mayoristas[\"mayorista\"] == market, d].values[0]\n",
    "        for d in depositos[\"deposito\"]\n",
    "    )\n",
    "    \n",
    "    costo_transporte_pdv = sum(\n",
    "        df[pdv] * mayoristas.loc[mayoristas[\"mayorista\"] == market, pdv].values[0]\n",
    "        for pdv in [f\"pdv_{i}\" for i in range(1, 6)]\n",
    "    )\n",
    "    \n",
    "    return costo_compra.sum() + costo_transporte_depositos.sum() + costo_transporte_pdv.sum()\n",
    "\n",
    "# Calculate total cost for each market\n",
    "total_cost_M1 = calculate_cost(M1, \"M1\")\n",
    "total_cost_M2 = calculate_cost(M2, \"M2\")\n",
    "total_cost_M3 = calculate_cost(M3, \"M3\")\n",
    "\n",
    "# Sum up all costs\n",
    "total_cost = total_cost_M1 + total_cost_M2 + total_cost_M3\n",
    "\n",
    "# Imprimo\n",
    "print(f\"Costo total de M1: {total_cost_M1}\")\n",
    "print(f\"Costo total de M2: {total_cost_M2}\")\n",
    "print(f\"Costo total de M3: {total_cost_M3}\")\n",
    "print(f\"Costo total: {total_cost}\")"
   ]
  },
  {
   "cell_type": "markdown",
   "id": "e459f721",
   "metadata": {},
   "source": [
    "Ahora reviso cuanto va a cada deposito:"
   ]
  },
  {
   "cell_type": "code",
   "execution_count": null,
   "id": "511d6721",
   "metadata": {},
   "outputs": [],
   "source": [
    "# Calculo la cantidad de productos y sus volumenes por deposito\n",
    "res_dep = []\n",
    "\n",
    "for d in depositos[\"deposito\"]:\n",
    "    cant_total = sum(value(x[m, p, d]) for m in [\"M1\", \"M2\", \"M3\"] for p in productos[\"producto_id\"])\n",
    "    vol_total = sum(\n",
    "        value(x[m, p, d]) * productos.loc[productos[\"producto_id\"] == p, \"volumen_m3\"].values[0]\n",
    "        for m in [\"M1\", \"M2\", \"M3\"]\n",
    "        for p in productos[\"producto_id\"]\n",
    "    )\n",
    "    res_dep.append({\"deposito\": d, \"cant_total\": cant_total, \"vol_total\": vol_total})\n",
    "\n",
    "# Lo hago un dataframe para que sea más fácil de leer\n",
    "resumen_depositos = pd.DataFrame(res_dep)"
   ]
  },
  {
   "cell_type": "code",
   "execution_count": null,
   "id": "84416bed",
   "metadata": {},
   "outputs": [
    {
     "data": {
      "text/html": [
       "<div>\n",
       "<style scoped>\n",
       "    .dataframe tbody tr th:only-of-type {\n",
       "        vertical-align: middle;\n",
       "    }\n",
       "\n",
       "    .dataframe tbody tr th {\n",
       "        vertical-align: top;\n",
       "    }\n",
       "\n",
       "    .dataframe thead th {\n",
       "        text-align: right;\n",
       "    }\n",
       "</style>\n",
       "<table border=\"1\" class=\"dataframe\">\n",
       "  <thead>\n",
       "    <tr style=\"text-align: right;\">\n",
       "      <th></th>\n",
       "      <th>deposito</th>\n",
       "      <th>cant_total</th>\n",
       "      <th>vol_total</th>\n",
       "    </tr>\n",
       "  </thead>\n",
       "  <tbody>\n",
       "    <tr>\n",
       "      <th>0</th>\n",
       "      <td>D1_DEP</td>\n",
       "      <td>0.0</td>\n",
       "      <td>0.000</td>\n",
       "    </tr>\n",
       "    <tr>\n",
       "      <th>1</th>\n",
       "      <td>D2_DEP</td>\n",
       "      <td>203.0</td>\n",
       "      <td>40.887</td>\n",
       "    </tr>\n",
       "  </tbody>\n",
       "</table>\n",
       "</div>"
      ],
      "text/plain": [
       "  deposito  cant_total  vol_total\n",
       "0   D1_DEP         0.0      0.000\n",
       "1   D2_DEP       203.0     40.887"
      ]
     },
     "execution_count": 69,
     "metadata": {},
     "output_type": "execute_result"
    }
   ],
   "source": [
    "resumen_depositos"
   ]
  },
  {
   "cell_type": "markdown",
   "id": "6eac129f",
   "metadata": {},
   "source": [
    "Como todos mis productos entran en el dep 2, no hay precio mayor a 0 por el cual estaría dispuesto a aumentar la capacidad de D1."
   ]
  },
  {
   "cell_type": "markdown",
   "id": "2be7cbee",
   "metadata": {},
   "source": [
    "Corroboro"
   ]
  },
  {
   "cell_type": "code",
   "execution_count": null,
   "id": "c576518a",
   "metadata": {},
   "outputs": [],
   "source": [
    "Vol_tot = productos[\"volumen_m3\"].sum() * productos[\"demanda_total\"].sum()"
   ]
  },
  {
   "cell_type": "code",
   "execution_count": null,
   "id": "ea9f99ca",
   "metadata": {},
   "outputs": [
    {
     "data": {
      "text/plain": [
       "np.float64(355216.99199999997)"
      ]
     },
     "execution_count": 71,
     "metadata": {},
     "output_type": "execute_result"
    }
   ],
   "source": [
    "Vol_tot"
   ]
  },
  {
   "cell_type": "markdown",
   "id": "22f9bb71",
   "metadata": {},
   "source": [
    "Desapareció la gran mayoría del volúmen. Hay 2 opciones:\n",
    "- Se satisface una parte minúscula de la demanda (poco probable viendo mi calculo de demanda insatisfecha)\n",
    "- Hubo un error con las cuentas de volúmen (y potencialmente las de todo lo demás) cuando usé PuLP"
   ]
  }
 ],
 "metadata": {
  "kernelspec": {
   "display_name": "Python 3",
   "language": "python",
   "name": "python3"
  },
  "language_info": {
   "codemirror_mode": {
    "name": "ipython",
    "version": 3
   },
   "file_extension": ".py",
   "mimetype": "text/x-python",
   "name": "python",
   "nbconvert_exporter": "python",
   "pygments_lexer": "ipython3",
   "version": "3.10.12"
  }
 },
 "nbformat": 4,
 "nbformat_minor": 5
}
